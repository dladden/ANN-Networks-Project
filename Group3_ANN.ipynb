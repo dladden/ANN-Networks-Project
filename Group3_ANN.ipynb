{
 "cells": [
  {
   "cell_type": "markdown",
   "id": "37131ecb",
   "metadata": {},
   "source": [
    "# Artificial Neural Network Group 1"
   ]
  },
  {
   "cell_type": "code",
   "execution_count": 55,
   "id": "80ff566b",
   "metadata": {},
   "outputs": [
    {
     "name": "stdout",
     "output_type": "stream",
     "text": [
      "Requirement already satisfied: tensorflow in /Users/denys/opt/anaconda3/lib/python3.8/site-packages (2.8.0)\n",
      "Requirement already satisfied: protobuf>=3.9.2 in /Users/denys/opt/anaconda3/lib/python3.8/site-packages (from tensorflow) (3.20.1)\n",
      "Requirement already satisfied: google-pasta>=0.1.1 in /Users/denys/opt/anaconda3/lib/python3.8/site-packages (from tensorflow) (0.2.0)\n",
      "Requirement already satisfied: setuptools in /Users/denys/opt/anaconda3/lib/python3.8/site-packages (from tensorflow) (52.0.0.post20210125)\n",
      "Requirement already satisfied: grpcio<2.0,>=1.24.3 in /Users/denys/opt/anaconda3/lib/python3.8/site-packages (from tensorflow) (1.44.0)\n",
      "Requirement already satisfied: tensorboard<2.9,>=2.8 in /Users/denys/opt/anaconda3/lib/python3.8/site-packages (from tensorflow) (2.8.0)\n",
      "Requirement already satisfied: absl-py>=0.4.0 in /Users/denys/opt/anaconda3/lib/python3.8/site-packages (from tensorflow) (1.0.0)\n",
      "Requirement already satisfied: termcolor>=1.1.0 in /Users/denys/opt/anaconda3/lib/python3.8/site-packages (from tensorflow) (1.1.0)\n",
      "Requirement already satisfied: libclang>=9.0.1 in /Users/denys/opt/anaconda3/lib/python3.8/site-packages (from tensorflow) (14.0.1)\n",
      "Requirement already satisfied: keras-preprocessing>=1.1.1 in /Users/denys/opt/anaconda3/lib/python3.8/site-packages (from tensorflow) (1.1.2)\n",
      "Requirement already satisfied: gast>=0.2.1 in /Users/denys/opt/anaconda3/lib/python3.8/site-packages (from tensorflow) (0.5.3)\n",
      "Requirement already satisfied: six>=1.12.0 in /Users/denys/opt/anaconda3/lib/python3.8/site-packages (from tensorflow) (1.15.0)\n",
      "Requirement already satisfied: opt-einsum>=2.3.2 in /Users/denys/opt/anaconda3/lib/python3.8/site-packages (from tensorflow) (3.3.0)\n",
      "Requirement already satisfied: astunparse>=1.6.0 in /Users/denys/opt/anaconda3/lib/python3.8/site-packages (from tensorflow) (1.6.3)\n",
      "Requirement already satisfied: keras<2.9,>=2.8.0rc0 in /Users/denys/opt/anaconda3/lib/python3.8/site-packages (from tensorflow) (2.8.0)\n",
      "Requirement already satisfied: tensorflow-io-gcs-filesystem>=0.23.1 in /Users/denys/opt/anaconda3/lib/python3.8/site-packages (from tensorflow) (0.25.0)\n",
      "Requirement already satisfied: tf-estimator-nightly==2.8.0.dev2021122109 in /Users/denys/opt/anaconda3/lib/python3.8/site-packages (from tensorflow) (2.8.0.dev2021122109)\n",
      "Requirement already satisfied: flatbuffers>=1.12 in /Users/denys/opt/anaconda3/lib/python3.8/site-packages (from tensorflow) (2.0)\n",
      "Requirement already satisfied: numpy>=1.20 in /Users/denys/opt/anaconda3/lib/python3.8/site-packages (from tensorflow) (1.20.1)\n",
      "Requirement already satisfied: typing-extensions>=3.6.6 in /Users/denys/opt/anaconda3/lib/python3.8/site-packages (from tensorflow) (3.7.4.3)\n",
      "Requirement already satisfied: wrapt>=1.11.0 in /Users/denys/opt/anaconda3/lib/python3.8/site-packages (from tensorflow) (1.12.1)\n",
      "Requirement already satisfied: h5py>=2.9.0 in /Users/denys/opt/anaconda3/lib/python3.8/site-packages (from tensorflow) (2.10.0)\n",
      "Requirement already satisfied: wheel<1.0,>=0.23.0 in /Users/denys/opt/anaconda3/lib/python3.8/site-packages (from astunparse>=1.6.0->tensorflow) (0.36.2)\n",
      "Requirement already satisfied: markdown>=2.6.8 in /Users/denys/opt/anaconda3/lib/python3.8/site-packages (from tensorboard<2.9,>=2.8->tensorflow) (3.3.6)\n",
      "Requirement already satisfied: google-auth-oauthlib<0.5,>=0.4.1 in /Users/denys/opt/anaconda3/lib/python3.8/site-packages (from tensorboard<2.9,>=2.8->tensorflow) (0.4.6)\n",
      "Requirement already satisfied: tensorboard-data-server<0.7.0,>=0.6.0 in /Users/denys/opt/anaconda3/lib/python3.8/site-packages (from tensorboard<2.9,>=2.8->tensorflow) (0.6.1)\n",
      "Requirement already satisfied: google-auth<3,>=1.6.3 in /Users/denys/opt/anaconda3/lib/python3.8/site-packages (from tensorboard<2.9,>=2.8->tensorflow) (2.6.6)\n",
      "Requirement already satisfied: requests<3,>=2.21.0 in /Users/denys/opt/anaconda3/lib/python3.8/site-packages (from tensorboard<2.9,>=2.8->tensorflow) (2.25.1)\n",
      "Requirement already satisfied: tensorboard-plugin-wit>=1.6.0 in /Users/denys/opt/anaconda3/lib/python3.8/site-packages (from tensorboard<2.9,>=2.8->tensorflow) (1.8.1)\n",
      "Requirement already satisfied: werkzeug>=0.11.15 in /Users/denys/opt/anaconda3/lib/python3.8/site-packages (from tensorboard<2.9,>=2.8->tensorflow) (1.0.1)\n",
      "Requirement already satisfied: rsa<5,>=3.1.4 in /Users/denys/opt/anaconda3/lib/python3.8/site-packages (from google-auth<3,>=1.6.3->tensorboard<2.9,>=2.8->tensorflow) (4.8)\n",
      "Requirement already satisfied: cachetools<6.0,>=2.0.0 in /Users/denys/opt/anaconda3/lib/python3.8/site-packages (from google-auth<3,>=1.6.3->tensorboard<2.9,>=2.8->tensorflow) (5.0.0)\n",
      "Requirement already satisfied: pyasn1-modules>=0.2.1 in /Users/denys/opt/anaconda3/lib/python3.8/site-packages (from google-auth<3,>=1.6.3->tensorboard<2.9,>=2.8->tensorflow) (0.2.8)\n",
      "Requirement already satisfied: requests-oauthlib>=0.7.0 in /Users/denys/opt/anaconda3/lib/python3.8/site-packages (from google-auth-oauthlib<0.5,>=0.4.1->tensorboard<2.9,>=2.8->tensorflow) (1.3.1)\n",
      "Requirement already satisfied: importlib-metadata>=4.4 in /Users/denys/opt/anaconda3/lib/python3.8/site-packages (from markdown>=2.6.8->tensorboard<2.9,>=2.8->tensorflow) (4.11.3)\n",
      "Requirement already satisfied: zipp>=0.5 in /Users/denys/opt/anaconda3/lib/python3.8/site-packages (from importlib-metadata>=4.4->markdown>=2.6.8->tensorboard<2.9,>=2.8->tensorflow) (3.4.1)\n",
      "Requirement already satisfied: pyasn1<0.5.0,>=0.4.6 in /Users/denys/opt/anaconda3/lib/python3.8/site-packages (from pyasn1-modules>=0.2.1->google-auth<3,>=1.6.3->tensorboard<2.9,>=2.8->tensorflow) (0.4.8)\n",
      "Requirement already satisfied: idna<3,>=2.5 in /Users/denys/opt/anaconda3/lib/python3.8/site-packages (from requests<3,>=2.21.0->tensorboard<2.9,>=2.8->tensorflow) (2.10)\n",
      "Requirement already satisfied: chardet<5,>=3.0.2 in /Users/denys/opt/anaconda3/lib/python3.8/site-packages (from requests<3,>=2.21.0->tensorboard<2.9,>=2.8->tensorflow) (4.0.0)\n",
      "Requirement already satisfied: urllib3<1.27,>=1.21.1 in /Users/denys/opt/anaconda3/lib/python3.8/site-packages (from requests<3,>=2.21.0->tensorboard<2.9,>=2.8->tensorflow) (1.26.4)\n",
      "Requirement already satisfied: certifi>=2017.4.17 in /Users/denys/opt/anaconda3/lib/python3.8/site-packages (from requests<3,>=2.21.0->tensorboard<2.9,>=2.8->tensorflow) (2020.12.5)\n",
      "Requirement already satisfied: oauthlib>=3.0.0 in /Users/denys/opt/anaconda3/lib/python3.8/site-packages (from requests-oauthlib>=0.7.0->google-auth-oauthlib<0.5,>=0.4.1->tensorboard<2.9,>=2.8->tensorflow) (3.2.0)\n",
      "Note: you may need to restart the kernel to use updated packages.\n"
     ]
    }
   ],
   "source": [
    "#pip install tensorflow"
   ]
  },
  {
   "cell_type": "code",
   "execution_count": 2,
   "id": "68c4be12",
   "metadata": {},
   "outputs": [],
   "source": [
    "import numpy as np\n",
    "import pandas as pd\n",
    "import tensorflow as tf\n",
    "#import sklearn import *"
   ]
  },
  {
   "cell_type": "code",
   "execution_count": 3,
   "id": "0f9c6a09",
   "metadata": {},
   "outputs": [
    {
     "data": {
      "text/plain": [
       "'2.8.0'"
      ]
     },
     "execution_count": 3,
     "metadata": {},
     "output_type": "execute_result"
    }
   ],
   "source": [
    "tf.__version__"
   ]
  },
  {
   "cell_type": "code",
   "execution_count": 10,
   "id": "414ca65d",
   "metadata": {},
   "outputs": [],
   "source": [
    "dataset = pd.read_excel('Data_for_All.xlsx')\n",
    "X = dataset[['MQ9', 'MQ2', 'Temperature-G4', 'Pressure', 'Altitude', 'Humidity',\n",
    "       'IR_Temp', 'Meter', 'Soil-G1']] # independent variables\n",
    "y = dataset[['MQ135-G3']] # dependent variable CO2"
   ]
  },
  {
   "cell_type": "code",
   "execution_count": 11,
   "id": "8e42d704",
   "metadata": {},
   "outputs": [
    {
     "data": {
      "text/plain": [
       "Index(['MQ9', 'MQ2', 'Temperature-G4', 'Pressure', 'Altitude', 'Humidity',\n",
       "       'IR_Temp', 'Meter', 'Soil-G1', 'MQ135-G3'],\n",
       "      dtype='object')"
      ]
     },
     "execution_count": 11,
     "metadata": {},
     "output_type": "execute_result"
    }
   ],
   "source": [
    "dataset.columns"
   ]
  },
  {
   "cell_type": "code",
   "execution_count": 12,
   "id": "44008608",
   "metadata": {},
   "outputs": [],
   "source": [
    "import statsmodels.api as sm\n",
    "X = sm.add_constant(X)\n",
    "model = sm.OLS(y, X).fit()"
   ]
  },
  {
   "cell_type": "markdown",
   "id": "2076b1c2",
   "metadata": {},
   "source": [
    "## Regression Results\n",
    "The P>|t| column represents the p-value associated with the value in the t value column. The t is the value of the t-statistic for testing if the corresponding coefficient is different from 0. If the p-value is less than a certain significance level (e.g. α = .05) then the predictor variable is said to have a statistically significant relationship with the response variable in the model.\n",
    "\n",
    "It can be seen that our independent values are good predictors based on P>|t|, besides the Altitude which has a high score of P>|t|. Additionlay note that R-squared value is 0.911.\n",
    "\n",
    "A small p-value (typically ≤ 0.05) indicates strong evidence against the null hypothesis, so you reject the null hypothesis. A large p-value (> 0.05) indicates weak evidence against the null hypothesis, so accept alternet hypothesis."
   ]
  },
  {
   "cell_type": "code",
   "execution_count": 13,
   "id": "989309e9",
   "metadata": {},
   "outputs": [
    {
     "name": "stdout",
     "output_type": "stream",
     "text": [
      "                            OLS Regression Results                            \n",
      "==============================================================================\n",
      "Dep. Variable:               MQ135-G3   R-squared:                       0.911\n",
      "Model:                            OLS   Adj. R-squared:                  0.908\n",
      "Method:                 Least Squares   F-statistic:                     354.5\n",
      "Date:                Wed, 27 Apr 2022   Prob (F-statistic):          2.16e-158\n",
      "Time:                        11:10:56   Log-Likelihood:                -1341.7\n",
      "No. Observations:                 323   AIC:                             2703.\n",
      "Df Residuals:                     313   BIC:                             2741.\n",
      "Df Model:                           9                                         \n",
      "Covariance Type:            nonrobust                                         \n",
      "==================================================================================\n",
      "                     coef    std err          t      P>|t|      [0.025      0.975]\n",
      "----------------------------------------------------------------------------------\n",
      "const            241.9096     46.010      5.258      0.000     151.381     332.439\n",
      "MQ9                0.1720      0.035      4.860      0.000       0.102       0.242\n",
      "MQ2                2.7939      0.151     18.468      0.000       2.496       3.092\n",
      "Temperature-G4     4.8882      0.834      5.865      0.000       3.248       6.528\n",
      "Pressure          -0.0002      0.000     -1.164      0.245      -0.000       0.000\n",
      "Altitude           0.0005      0.002      0.216      0.829      -0.004       0.005\n",
      "Humidity           1.1746      0.249      4.721      0.000       0.685       1.664\n",
      "IR_Temp        -7.215e-05      0.000     -0.440      0.660      -0.000       0.000\n",
      "Meter             -5.7672      0.698     -8.259      0.000      -7.141      -4.393\n",
      "Soil-G1           -2.1431      0.252     -8.493      0.000      -2.640      -1.647\n",
      "==============================================================================\n",
      "Omnibus:                       19.428   Durbin-Watson:                   0.349\n",
      "Prob(Omnibus):                  0.000   Jarque-Bera (JB):                7.690\n",
      "Skew:                           0.024   Prob(JB):                       0.0214\n",
      "Kurtosis:                       2.246   Cond. No.                     5.30e+06\n",
      "==============================================================================\n",
      "\n",
      "Notes:\n",
      "[1] Standard Errors assume that the covariance matrix of the errors is correctly specified.\n",
      "[2] The condition number is large, 5.3e+06. This might indicate that there are\n",
      "strong multicollinearity or other numerical problems.\n"
     ]
    }
   ],
   "source": [
    "print(model.summary())"
   ]
  },
  {
   "cell_type": "code",
   "execution_count": 14,
   "id": "d6d142d5",
   "metadata": {},
   "outputs": [
    {
     "name": "stdout",
     "output_type": "stream",
     "text": [
      "     const    MQ9    MQ2  Temperature-G4  Pressure  Altitude  Humidity  \\\n",
      "0      1.0  241.0  200.0             7.7     99270    171.76        55   \n",
      "1      1.0  241.0  199.0             7.7     99270    171.58        55   \n",
      "2      1.0  242.0  196.0             7.7     99277    171.84        56   \n",
      "3      1.0  241.0  194.0             7.7     99278    171.58        56   \n",
      "4      1.0  236.0  192.0             7.7     99275    171.67        56   \n",
      "..     ...    ...    ...             ...       ...       ...       ...   \n",
      "318    1.0  139.0  145.0             6.1     98288    256.23        54   \n",
      "319    1.0  141.0  145.0             6.2     98300    254.53        54   \n",
      "320    1.0  140.0  145.0             6.3     98331    252.65        54   \n",
      "321    1.0  140.0  146.0             6.4     98327    252.39        54   \n",
      "322    1.0  140.0  145.0             6.4     98329    252.82        54   \n",
      "\n",
      "      IR_Temp  Meter  Soil-G1  \n",
      "0       -1.50      8       78  \n",
      "1       -1.50      8       78  \n",
      "2    99280.50      8       79  \n",
      "3       -1.50      8       79  \n",
      "4       -1.50      8       79  \n",
      "..        ...    ...      ...  \n",
      "318     -0.05      8       93  \n",
      "319     -0.05      8       93  \n",
      "320     -0.05      8       93  \n",
      "321     -0.05      8       93  \n",
      "322     -0.05      8       93  \n",
      "\n",
      "[323 rows x 10 columns]\n"
     ]
    }
   ],
   "source": [
    "print(X)"
   ]
  },
  {
   "cell_type": "code",
   "execution_count": 15,
   "id": "b93a23a0",
   "metadata": {},
   "outputs": [
    {
     "name": "stdout",
     "output_type": "stream",
     "text": [
      "     MQ135-G3\n",
      "0       698.0\n",
      "1       698.0\n",
      "2       697.0\n",
      "3       692.0\n",
      "4       689.0\n",
      "..        ...\n",
      "318     526.0\n",
      "319     525.0\n",
      "320     524.0\n",
      "321     523.0\n",
      "322     524.0\n",
      "\n",
      "[323 rows x 1 columns]\n"
     ]
    }
   ],
   "source": [
    "print(y)"
   ]
  },
  {
   "cell_type": "markdown",
   "id": "6b1be7d5",
   "metadata": {},
   "source": [
    "### Standardizing the data set"
   ]
  },
  {
   "cell_type": "code",
   "execution_count": 16,
   "id": "f6d570e3",
   "metadata": {},
   "outputs": [],
   "source": [
    "from sklearn.preprocessing import StandardScaler #scaling the data\n",
    "sc_X = StandardScaler()\n",
    "sc_y=StandardScaler()\n",
    "X= sc_X.fit_transform(X)\n",
    "y= sc_y.fit_transform(y)"
   ]
  },
  {
   "cell_type": "code",
   "execution_count": 17,
   "id": "099572a0",
   "metadata": {},
   "outputs": [
    {
     "name": "stdout",
     "output_type": "stream",
     "text": [
      "[[ 0.          2.40874106  4.43476459 ... -0.05572844  0.54481119\n",
      "  -1.70135995]\n",
      " [ 0.          2.40874106  4.33667598 ... -0.05572844  0.54481119\n",
      "  -1.70135995]\n",
      " [ 0.          2.4382833   4.04241017 ... 17.94435574  0.54481119\n",
      "  -1.5544636 ]\n",
      " ...\n",
      " [ 0.         -0.57502477 -0.96010875 ... -0.05546555  0.54481119\n",
      "   0.50208537]\n",
      " [ 0.         -0.57502477 -0.86202014 ... -0.05546555  0.54481119\n",
      "   0.50208537]\n",
      " [ 0.         -0.57502477 -0.96010875 ... -0.05546555  0.54481119\n",
      "   0.50208537]]\n"
     ]
    }
   ],
   "source": [
    "print(X) #Scaled value"
   ]
  },
  {
   "cell_type": "code",
   "execution_count": 18,
   "id": "41a4496e",
   "metadata": {},
   "outputs": [
    {
     "name": "stdout",
     "output_type": "stream",
     "text": [
      "[[ 2.74642662]\n",
      " [ 2.74642662]\n",
      " [ 2.72702935]\n",
      " [ 2.63004297]\n",
      " [ 2.57185114]\n",
      " [ 2.47486477]\n",
      " [ 2.47486477]\n",
      " [ 2.39727567]\n",
      " [ 2.35848112]\n",
      " [ 2.31968657]\n",
      " [ 2.06752199]\n",
      " [ 2.12571382]\n",
      " [ 2.12571382]\n",
      " [ 2.10631654]\n",
      " [ 1.95113834]\n",
      " [ 2.04812471]\n",
      " [ 2.00933016]\n",
      " [ 2.04812471]\n",
      " [ 2.00933016]\n",
      " [ 2.00933016]\n",
      " [ 1.97053561]\n",
      " [ 1.93174106]\n",
      " [ 1.83475469]\n",
      " [ 1.77656286]\n",
      " [ 1.69897376]\n",
      " [ 1.73776831]\n",
      " [ 1.73776831]\n",
      " [ 1.69897376]\n",
      " [ 1.67957649]\n",
      " [ 1.62138466]\n",
      " [ 1.58259011]\n",
      " [ 1.56319284]\n",
      " [ 1.56319284]\n",
      " [ 1.19464461]\n",
      " [ 1.19464461]\n",
      " [ 1.38861736]\n",
      " [ 1.52439828]\n",
      " [ 1.42741191]\n",
      " [ 1.40801463]\n",
      " [ 1.38861736]\n",
      " [ 1.33042553]\n",
      " [ 1.11705551]\n",
      " [ 1.11705551]\n",
      " [ 1.31102826]\n",
      " [ 1.29163098]\n",
      " [ 1.17524733]\n",
      " [ 1.02006913]\n",
      " [ 1.17524733]\n",
      " [ 1.03946641]\n",
      " [ 1.17524733]\n",
      " [ 1.19464461]\n",
      " [ 1.13645278]\n",
      " [ 1.09765823]\n",
      " [ 1.05886368]\n",
      " [ 0.84549365]\n",
      " [ 1.03946641]\n",
      " [ 1.03946641]\n",
      " [ 1.02006913]\n",
      " [ 0.9618773 ]\n",
      " [ 0.94248003]\n",
      " [ 0.90368548]\n",
      " [ 0.90368548]\n",
      " [ 0.8842882 ]\n",
      " [ 0.82609638]\n",
      " [ 0.86489093]\n",
      " [ 0.72911   ]\n",
      " [ 0.78730183]\n",
      " [ 0.53513725]\n",
      " [ 0.84549365]\n",
      " [ 0.86489093]\n",
      " [ 0.8842882 ]\n",
      " [ 0.82609638]\n",
      " [ 0.84549365]\n",
      " [ 0.84549365]\n",
      " [ 0.8066991 ]\n",
      " [ 0.82609638]\n",
      " [ 0.74850728]\n",
      " [ 0.69031545]\n",
      " [ 0.67091818]\n",
      " [ 0.67091818]\n",
      " [ 0.61272635]\n",
      " [ 0.59332908]\n",
      " [ 0.5739318 ]\n",
      " [ 0.55453453]\n",
      " [ 0.55453453]\n",
      " [ 0.55453453]\n",
      " [ 0.4963427 ]\n",
      " [ 0.43815087]\n",
      " [ 0.47694543]\n",
      " [ 0.4963427 ]\n",
      " [ 0.47694543]\n",
      " [ 0.43815087]\n",
      " [ 0.45754815]\n",
      " [ 0.30236995]\n",
      " [ 0.43815087]\n",
      " [ 0.39935632]\n",
      " [ 0.36056177]\n",
      " [ 0.37995905]\n",
      " [ 0.36056177]\n",
      " [-0.80327474]\n",
      " [-0.80327474]\n",
      " [-0.80327474]\n",
      " [-0.84206929]\n",
      " [-0.78387746]\n",
      " [-0.86146656]\n",
      " [-0.88086384]\n",
      " [-0.84206929]\n",
      " [-0.84206929]\n",
      " [-0.88086384]\n",
      " [-0.88086384]\n",
      " [-0.90026111]\n",
      " [-0.90026111]\n",
      " [-0.88086384]\n",
      " [-0.88086384]\n",
      " [-0.86146656]\n",
      " [-0.88086384]\n",
      " [-0.91965839]\n",
      " [-0.91965839]\n",
      " [-0.91965839]\n",
      " [-0.93905566]\n",
      " [-0.93905566]\n",
      " [-0.93905566]\n",
      " [-0.93905566]\n",
      " [-0.90026111]\n",
      " [-0.91965839]\n",
      " [-0.93905566]\n",
      " [-0.93905566]\n",
      " [-0.91965839]\n",
      " [-0.91965839]\n",
      " [-0.93905566]\n",
      " [-0.93905566]\n",
      " [-0.95845294]\n",
      " [-0.95845294]\n",
      " [-0.95845294]\n",
      " [-0.97785021]\n",
      " [-0.97785021]\n",
      " [-0.97785021]\n",
      " [-0.95845294]\n",
      " [-0.97785021]\n",
      " [-0.95845294]\n",
      " [-0.97785021]\n",
      " [-0.97785021]\n",
      " [-0.97785021]\n",
      " [-0.95845294]\n",
      " [-0.95845294]\n",
      " [-0.95845294]\n",
      " [-0.93905566]\n",
      " [-0.95845294]\n",
      " [-0.95845294]\n",
      " [-0.91965839]\n",
      " [-0.95845294]\n",
      " [-0.97785021]\n",
      " [-0.93905566]\n",
      " [-0.97785021]\n",
      " [-0.99724749]\n",
      " [-0.95845294]\n",
      " [-0.97785021]\n",
      " [-0.95845294]\n",
      " [-0.99724749]\n",
      " [-0.99724749]\n",
      " [-1.01664476]\n",
      " [-0.97785021]\n",
      " [-0.97785021]\n",
      " [-0.99724749]\n",
      " [-1.03604204]\n",
      " [-1.03604204]\n",
      " [-1.05543931]\n",
      " [-1.01664476]\n",
      " [-1.07483659]\n",
      " [-1.07483659]\n",
      " [-1.03604204]\n",
      " [-1.03604204]\n",
      " [-1.05543931]\n",
      " [-1.05543931]\n",
      " [-1.05543931]\n",
      " [-1.01664476]\n",
      " [-1.07483659]\n",
      " [-1.07483659]\n",
      " [-1.05543931]\n",
      " [-1.05543931]\n",
      " [-1.07483659]\n",
      " [-1.05543931]\n",
      " [-1.05543931]\n",
      " [-1.03604204]\n",
      " [-1.05543931]\n",
      " [-1.05543931]\n",
      " [-1.07862686]\n",
      " [-1.0814577 ]\n",
      " [-1.08428854]\n",
      " [-1.08711937]\n",
      " [-1.08995021]\n",
      " [-1.09278105]\n",
      " [-1.09561188]\n",
      " [-1.09844272]\n",
      " [-1.10127356]\n",
      " [-1.10410439]\n",
      " [-1.10693523]\n",
      " [-1.10976607]\n",
      " [-1.11259691]\n",
      " [-1.11542774]\n",
      " [-1.11825858]\n",
      " [-1.12108942]\n",
      " [-1.12392025]\n",
      " [-1.12675109]\n",
      " [-1.12958193]\n",
      " [-1.13241276]\n",
      " [-1.1352436 ]\n",
      " [-1.13807444]\n",
      " [ 0.55453453]\n",
      " [ 0.47694543]\n",
      " [ 0.4963427 ]\n",
      " [ 0.43815087]\n",
      " [ 0.43815087]\n",
      " [ 0.39935632]\n",
      " [ 0.37995905]\n",
      " [ 0.39935632]\n",
      " [ 0.3411645 ]\n",
      " [ 0.28297267]\n",
      " [ 0.32176722]\n",
      " [ 0.3411645 ]\n",
      " [ 0.30236995]\n",
      " [ 0.30236995]\n",
      " [ 0.30236995]\n",
      " [ 0.24417812]\n",
      " [ 0.24417812]\n",
      " [ 0.24417812]\n",
      " [ 0.20538357]\n",
      " [ 0.20538357]\n",
      " [ 0.1859863 ]\n",
      " [ 0.16658902]\n",
      " [ 0.12779447]\n",
      " [ 0.1859863 ]\n",
      " [ 0.22478085]\n",
      " [ 0.2635754 ]\n",
      " [ 0.22478085]\n",
      " [ 0.1859863 ]\n",
      " [ 0.14719175]\n",
      " [ 0.14719175]\n",
      " [ 0.1083972 ]\n",
      " [ 0.12779447]\n",
      " [ 0.08899992]\n",
      " [ 0.05020537]\n",
      " [ 0.08899992]\n",
      " [ 0.05020537]\n",
      " [ 0.01141082]\n",
      " [ 0.01141082]\n",
      " [-0.00798645]\n",
      " [-0.00798645]\n",
      " [-0.046781  ]\n",
      " [-0.046781  ]\n",
      " [-0.046781  ]\n",
      " [-0.08557555]\n",
      " [-0.08557555]\n",
      " [-0.10497283]\n",
      " [-0.10497283]\n",
      " [-0.06617828]\n",
      " [-0.10497283]\n",
      " [-0.12437011]\n",
      " [-0.14376738]\n",
      " [-0.14376738]\n",
      " [-0.14376738]\n",
      " [-0.16316466]\n",
      " [-0.16316466]\n",
      " [-0.18256193]\n",
      " [-0.16316466]\n",
      " [-0.18256193]\n",
      " [-0.22135648]\n",
      " [-0.18256193]\n",
      " [-0.20195921]\n",
      " [-0.24075376]\n",
      " [-0.22135648]\n",
      " [-0.26015103]\n",
      " [-0.27954831]\n",
      " [-0.24075376]\n",
      " [-0.27954831]\n",
      " [-0.29894558]\n",
      " [-0.31834286]\n",
      " [-0.29894558]\n",
      " [-0.27954831]\n",
      " [-0.31834286]\n",
      " [-0.33774013]\n",
      " [-0.33774013]\n",
      " [-0.31834286]\n",
      " [-0.33774013]\n",
      " [-0.37653468]\n",
      " [-0.33774013]\n",
      " [-0.35713741]\n",
      " [-0.35713741]\n",
      " [-0.35713741]\n",
      " [-0.39593196]\n",
      " [-0.43472651]\n",
      " [-0.49291833]\n",
      " [-0.43472651]\n",
      " [-0.43472651]\n",
      " [-0.43472651]\n",
      " [-0.45412378]\n",
      " [-0.43472651]\n",
      " [-0.45412378]\n",
      " [-0.45412378]\n",
      " [-0.43472651]\n",
      " [-0.45412378]\n",
      " [-0.47352106]\n",
      " [-0.51231561]\n",
      " [-0.49291833]\n",
      " [-0.49291833]\n",
      " [-0.47352106]\n",
      " [-0.47352106]\n",
      " [-0.47352106]\n",
      " [-0.49291833]\n",
      " [-0.55111016]\n",
      " [-0.55111016]\n",
      " [-0.53171288]\n",
      " [-0.53171288]\n",
      " [-0.57050743]\n",
      " [-0.53171288]\n",
      " [-0.57050743]\n",
      " [-0.57050743]\n",
      " [-0.62869926]\n",
      " [-0.58990471]\n",
      " [-0.60930198]\n",
      " [-0.62869926]\n",
      " [-0.64809654]\n",
      " [-0.62869926]]\n"
     ]
    }
   ],
   "source": [
    "print(y) # Scaled value"
   ]
  },
  {
   "cell_type": "code",
   "execution_count": 19,
   "id": "6d3c9c3e",
   "metadata": {},
   "outputs": [],
   "source": [
    "from sklearn.model_selection import train_test_split\n",
    "X_train, X_test, y_train, y_test = train_test_split(X, y, test_size = 0.2, random_state = 0)"
   ]
  },
  {
   "cell_type": "code",
   "execution_count": 20,
   "id": "455f9adb",
   "metadata": {},
   "outputs": [],
   "source": [
    "ann = tf.keras.models.Sequential()"
   ]
  },
  {
   "cell_type": "code",
   "execution_count": 21,
   "id": "ad993191",
   "metadata": {},
   "outputs": [],
   "source": [
    "ann.add(tf.keras.layers.Dense(units=30, activation='relu')) #layer one with 30 nodes"
   ]
  },
  {
   "cell_type": "code",
   "execution_count": 22,
   "id": "c3a812e2",
   "metadata": {},
   "outputs": [],
   "source": [
    "ann.add(tf.keras.layers.Dense(units=30, activation='relu')) #layer two with 30 nodes"
   ]
  },
  {
   "cell_type": "code",
   "execution_count": 23,
   "id": "87288c0d",
   "metadata": {},
   "outputs": [],
   "source": [
    "ann.add(tf.keras.layers.Dense(units=30, activation='relu')) #layer three with 30 nodes"
   ]
  },
  {
   "cell_type": "code",
   "execution_count": 24,
   "id": "79501481",
   "metadata": {},
   "outputs": [],
   "source": [
    "ann.add(tf.keras.layers.Dense(units=1)) #final output layer"
   ]
  },
  {
   "cell_type": "markdown",
   "id": "c4ff29c3",
   "metadata": {},
   "source": [
    "### Optimizing using the Adam Algorithm and the Mean Squared Error Function\n",
    "The Adam optimization algorithm is an extension to stochastic gradient descent that has recently seen broader adoption for deep learning applications in computer vision and natural language processing.\n",
    "\n",
    "The loss function in a neural network quantifies the difference between the expected outcome and the outcome produced by the machine learning model. From the loss function, we can derive the gradients which are used to update the weights. The average over all losses constitutes the cost."
   ]
  },
  {
   "cell_type": "code",
   "execution_count": 25,
   "id": "603420c5",
   "metadata": {},
   "outputs": [],
   "source": [
    "ann.compile(optimizer = 'adam', loss = 'mean_squared_error')"
   ]
  },
  {
   "attachments": {},
   "cell_type": "markdown",
   "id": "6123d81b",
   "metadata": {},
   "source": [
    "## Our ANN Model Diagram\n",
    "As you can see modeal is created with 3 hidden with 30 nodes per layer. There are 9 input nodes and one predictor output for the MQ135 value."
   ]
  },
  {
   "cell_type": "markdown",
   "id": "e5340beb",
   "metadata": {},
   "source": [
    "<img src=\"img/ann_model.png\">"
   ]
  },
  {
   "cell_type": "markdown",
   "id": "68bdb6e3",
   "metadata": {},
   "source": [
    "### Training the ANN model on the Training set\n",
    "#### The batch size defines the number of samples that will be propagated through the network.\n",
    " the Loss value implies how poorly or well a model behaves after each iteration of optimization. It can be seen that the. \n",
    " The batch size is a hyperparameter that defines the number of samples to work through before updating the internal model parameters.\n",
    " The number of epochs is a hyperparameter that defines the number times that the learning algorithm will work through the entire training dataset.\n",
    " As you can see the loss function is decreasing\n",
    "\n",
    "- epoch size keep from `60`, batch size: `16`"
   ]
  },
  {
   "cell_type": "code",
   "execution_count": 26,
   "id": "c5cf6b79",
   "metadata": {},
   "outputs": [
    {
     "name": "stdout",
     "output_type": "stream",
     "text": [
      "Epoch 1/60\n",
      "17/17 [==============================] - 0s 994us/step - loss: 1.0180\n",
      "Epoch 2/60\n",
      "17/17 [==============================] - 0s 1ms/step - loss: 0.6290\n",
      "Epoch 3/60\n",
      "17/17 [==============================] - 0s 882us/step - loss: 0.4757\n",
      "Epoch 4/60\n",
      "17/17 [==============================] - 0s 1ms/step - loss: 0.3244\n",
      "Epoch 5/60\n",
      "17/17 [==============================] - 0s 1ms/step - loss: 0.1802\n",
      "Epoch 6/60\n",
      "17/17 [==============================] - 0s 1ms/step - loss: 0.0879\n",
      "Epoch 7/60\n",
      "17/17 [==============================] - 0s 914us/step - loss: 0.0430\n",
      "Epoch 8/60\n",
      "17/17 [==============================] - 0s 1ms/step - loss: 0.0254\n",
      "Epoch 9/60\n",
      "17/17 [==============================] - 0s 1ms/step - loss: 0.0153\n",
      "Epoch 10/60\n",
      "17/17 [==============================] - 0s 1ms/step - loss: 0.0108\n",
      "Epoch 11/60\n",
      "17/17 [==============================] - 0s 1ms/step - loss: 0.0089\n",
      "Epoch 12/60\n",
      "17/17 [==============================] - 0s 1ms/step - loss: 0.0076\n",
      "Epoch 13/60\n",
      "17/17 [==============================] - 0s 1ms/step - loss: 0.0076\n",
      "Epoch 14/60\n",
      "17/17 [==============================] - 0s 1ms/step - loss: 0.0067\n",
      "Epoch 15/60\n",
      "17/17 [==============================] - 0s 1ms/step - loss: 0.0063\n",
      "Epoch 16/60\n",
      "17/17 [==============================] - 0s 1ms/step - loss: 0.0062\n",
      "Epoch 17/60\n",
      "17/17 [==============================] - 0s 1ms/step - loss: 0.0060\n",
      "Epoch 18/60\n",
      "17/17 [==============================] - 0s 1ms/step - loss: 0.0059\n",
      "Epoch 19/60\n",
      "17/17 [==============================] - 0s 1ms/step - loss: 0.0056\n",
      "Epoch 20/60\n",
      "17/17 [==============================] - 0s 1ms/step - loss: 0.0055\n",
      "Epoch 21/60\n",
      "17/17 [==============================] - 0s 1ms/step - loss: 0.0055\n",
      "Epoch 22/60\n",
      "17/17 [==============================] - 0s 1ms/step - loss: 0.0051\n",
      "Epoch 23/60\n",
      "17/17 [==============================] - 0s 1ms/step - loss: 0.0049\n",
      "Epoch 24/60\n",
      "17/17 [==============================] - 0s 1ms/step - loss: 0.0048\n",
      "Epoch 25/60\n",
      "17/17 [==============================] - 0s 1ms/step - loss: 0.0047\n",
      "Epoch 26/60\n",
      "17/17 [==============================] - 0s 1ms/step - loss: 0.0046\n",
      "Epoch 27/60\n",
      "17/17 [==============================] - 0s 1ms/step - loss: 0.0046\n",
      "Epoch 28/60\n",
      "17/17 [==============================] - 0s 1ms/step - loss: 0.0045\n",
      "Epoch 29/60\n",
      "17/17 [==============================] - 0s 1ms/step - loss: 0.0043\n",
      "Epoch 30/60\n",
      "17/17 [==============================] - 0s 1ms/step - loss: 0.0043\n",
      "Epoch 31/60\n",
      "17/17 [==============================] - 0s 1ms/step - loss: 0.0044\n",
      "Epoch 32/60\n",
      "17/17 [==============================] - 0s 1ms/step - loss: 0.0041\n",
      "Epoch 33/60\n",
      "17/17 [==============================] - 0s 973us/step - loss: 0.0040\n",
      "Epoch 34/60\n",
      "17/17 [==============================] - 0s 1ms/step - loss: 0.0037\n",
      "Epoch 35/60\n",
      "17/17 [==============================] - 0s 1ms/step - loss: 0.0039\n",
      "Epoch 36/60\n",
      "17/17 [==============================] - 0s 1ms/step - loss: 0.0037\n",
      "Epoch 37/60\n",
      "17/17 [==============================] - 0s 1ms/step - loss: 0.0037\n",
      "Epoch 38/60\n",
      "17/17 [==============================] - 0s 1ms/step - loss: 0.0034\n",
      "Epoch 39/60\n",
      "17/17 [==============================] - 0s 2ms/step - loss: 0.0034\n",
      "Epoch 40/60\n",
      "17/17 [==============================] - 0s 1ms/step - loss: 0.0034\n",
      "Epoch 41/60\n",
      "17/17 [==============================] - 0s 1ms/step - loss: 0.0031\n",
      "Epoch 42/60\n",
      "17/17 [==============================] - 0s 1ms/step - loss: 0.0031\n",
      "Epoch 43/60\n",
      "17/17 [==============================] - 0s 1ms/step - loss: 0.0031\n",
      "Epoch 44/60\n",
      "17/17 [==============================] - 0s 1ms/step - loss: 0.0030\n",
      "Epoch 45/60\n",
      "17/17 [==============================] - 0s 1ms/step - loss: 0.0028\n",
      "Epoch 46/60\n",
      "17/17 [==============================] - 0s 1ms/step - loss: 0.0029\n",
      "Epoch 47/60\n",
      "17/17 [==============================] - 0s 1ms/step - loss: 0.0030\n",
      "Epoch 48/60\n",
      "17/17 [==============================] - 0s 1ms/step - loss: 0.0029\n",
      "Epoch 49/60\n",
      "17/17 [==============================] - 0s 1ms/step - loss: 0.0031\n",
      "Epoch 50/60\n",
      "17/17 [==============================] - 0s 1ms/step - loss: 0.0030\n",
      "Epoch 51/60\n",
      "17/17 [==============================] - 0s 1ms/step - loss: 0.0027\n",
      "Epoch 52/60\n",
      "17/17 [==============================] - 0s 1ms/step - loss: 0.0026\n",
      "Epoch 53/60\n",
      "17/17 [==============================] - 0s 1ms/step - loss: 0.0026\n",
      "Epoch 54/60\n",
      "17/17 [==============================] - 0s 1ms/step - loss: 0.0029\n",
      "Epoch 55/60\n",
      "17/17 [==============================] - 0s 1ms/step - loss: 0.0025\n",
      "Epoch 56/60\n",
      "17/17 [==============================] - 0s 1ms/step - loss: 0.0024\n",
      "Epoch 57/60\n",
      "17/17 [==============================] - 0s 1ms/step - loss: 0.0024\n",
      "Epoch 58/60\n",
      "17/17 [==============================] - 0s 1ms/step - loss: 0.0034\n",
      "Epoch 59/60\n",
      "17/17 [==============================] - 0s 1ms/step - loss: 0.0033\n",
      "Epoch 60/60\n",
      "17/17 [==============================] - 0s 982us/step - loss: 0.0058\n"
     ]
    }
   ],
   "source": [
    "history=ann.fit(X_train, y_train, batch_size = 16, epochs = 60)"
   ]
  },
  {
   "cell_type": "code",
   "execution_count": 28,
   "id": "ae0ff4b7",
   "metadata": {},
   "outputs": [
    {
     "data": {
      "text/plain": [
       "Text(0.5, 1.0, 'Training Loss')"
      ]
     },
     "execution_count": 28,
     "metadata": {},
     "output_type": "execute_result"
    },
    {
     "data": {
      "image/png": "[encoded data removed]",
      "text/plain": [
       "<Figure size 432x288 with 1 Axes>"
      ]
     },
     "metadata": {
      "needs_background": "light"
     },
     "output_type": "display_data"
    }
   ],
   "source": [
    "import matplotlib.pyplot as plt\n",
    "loss=history.history['loss']\n",
    "epochs_range=range(60)\n",
    "plt.plot(epochs_range,loss,label='Training Loss')\n",
    "plt.title('Training Loss')"
   ]
  },
  {
   "cell_type": "markdown",
   "id": "0c9497de",
   "metadata": {},
   "source": [
    "#### Loss function decreases which is a good sign"
   ]
  },
  {
   "cell_type": "code",
   "execution_count": 29,
   "id": "2d9c90b1",
   "metadata": {},
   "outputs": [],
   "source": [
    "y_pred = ann.predict(X_test)"
   ]
  },
  {
   "cell_type": "code",
   "execution_count": 30,
   "id": "c4a4310f",
   "metadata": {
    "scrolled": true
   },
   "outputs": [
    {
     "name": "stdout",
     "output_type": "stream",
     "text": [
      "r-square 0.9955504059303262\n"
     ]
    }
   ],
   "source": [
    "from sklearn.metrics import r2_score\n",
    "\n",
    "print(\"r-square\",r2_score(y_test, y_pred))"
   ]
  },
  {
   "attachments": {},
   "cell_type": "markdown",
   "id": "770c1352",
   "metadata": {},
   "source": [
    "#### Prediction the Validation Dataset:\n",
    "With the given section of the dataset two cases are made to predict the MQ135 value."
   ]
  },
  {
   "cell_type": "markdown",
   "id": "120b3336",
   "metadata": {},
   "source": [
    "<img src=\"img/prediction_validati_dataset.png\">"
   ]
  },
  {
   "cell_type": "code",
   "execution_count": 32,
   "id": "7bf2e2dc",
   "metadata": {
    "scrolled": true
   },
   "outputs": [
    {
     "name": "stdout",
     "output_type": "stream",
     "text": [
      "[[498.32043]]\n"
     ]
    }
   ],
   "source": [
    "#case 1\n",
    "print(sc_y.inverse_transform(ann.predict(sc_X.transform([[1,135.42,148.17,4.3,99824, 126.15, 65, -3.7, 9, 94 ]])))) # 'Pressure','Altitude','Humidity','IR_Temp'\n"
   ]
  },
  {
   "cell_type": "code",
   "execution_count": 33,
   "id": "52c3075a",
   "metadata": {},
   "outputs": [
    {
     "name": "stdout",
     "output_type": "stream",
     "text": [
      "[[498.30423]]\n"
     ]
    }
   ],
   "source": [
    "#case 2\n",
    "print(sc_y.inverse_transform(ann.predict(sc_X.transform([[1,135.42,148.17,4.3,99818, 127.07, 65, -3.7, 9, 94 ]])))) # 'Pressure','Altitude','Humidity','IR_Temp'\n"
   ]
  },
  {
   "cell_type": "code",
   "execution_count": 34,
   "id": "55222493",
   "metadata": {},
   "outputs": [
    {
     "name": "stdout",
     "output_type": "stream",
     "text": [
      "INFO:tensorflow:Assets written to: model_60/assets\n"
     ]
    }
   ],
   "source": [
    "ann.save(\"model_60\")"
   ]
  }
 ],
 "metadata": {
  "kernelspec": {
   "display_name": "Python 3",
   "language": "python",
   "name": "python3"
  },
  "language_info": {
   "codemirror_mode": {
    "name": "ipython",
    "version": 3
   },
   "file_extension": ".py",
   "mimetype": "text/x-python",
   "name": "python",
   "nbconvert_exporter": "python",
   "pygments_lexer": "ipython3",
   "version": "3.8.8"
  }
 },
 "nbformat": 4,
 "nbformat_minor": 5
}
